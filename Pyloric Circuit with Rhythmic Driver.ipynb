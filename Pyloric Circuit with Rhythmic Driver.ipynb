{
 "cells": [
  {
   "cell_type": "markdown",
   "id": "561e8b9d",
   "metadata": {},
   "source": [
    "Pacemaker kernel is made up of 2 \"PD\" neurons (neurons 3 & 4 of 4-neuron CTRNN)\n",
    "\n",
    "For pyloric fitness purposes, only one of them shows the \"real\" PD neuron voltage\n",
    "The other one does not feed back onto the network (w41 = w42 = 0)\n",
    "\n",
    "HP is only applied to these two PD neurons: bias 3, bias 4, w13, w14, w23, w24, w33, w34, w43, w44\n",
    "(Or subset thereof)\n",
    "\n",
    "All other parameters are fixed (bias1, bias2, w11, w12, w21, w22, w31, w32, w41 = 0, w42 = 0)\n",
    "\n",
    "Thus, HP genome is numpy array of form [0,0,lb3,lb4,0,0,ub3,ub4, tauw, taub, slidingwindow]\n"
   ]
  },
  {
   "cell_type": "code",
   "execution_count": 2,
   "id": "07800817",
   "metadata": {},
   "outputs": [],
   "source": [
    "import numpy as np\n",
    "import matplotlib.pyplot as plt\n",
    "import matplotlib.colors as colors\n",
    "import matplotlib.cbook as cbook\n",
    "from matplotlib import cm\n",
    "import math\n",
    "import sobol\n",
    "import random\n",
    "from pyloricfitness import *\n",
    "from CTRNNclass import *\n",
    "from HPevolution import *\n",
    "from acceptance import *"
   ]
  },
  {
   "cell_type": "code",
   "execution_count": 3,
   "id": "28a9c26c",
   "metadata": {},
   "outputs": [],
   "source": [
    "def differentialapplication(HPgenome,boolean):\n",
    "    '''turn off the application of HP in a specific HP genome. boolean is list of ones and zeros for whether \n",
    "    to apply HP or not (0->off)'''\n",
    "    genome = HPgenome\n",
    "    CTRNNsize = len(boolean)\n",
    "    for i in range(CTRNNsize):\n",
    "        if not(boolean[i]):\n",
    "            genome[i] = 0             #remove lower bound\n",
    "            genome[i+CTRNNsize] = 0   #remove upper bound\n",
    "    return genome"
   ]
  },
  {
   "cell_type": "code",
   "execution_count": null,
   "id": "91b56192",
   "metadata": {},
   "outputs": [],
   "source": [
    "def \n",
    "\n",
    "def fitnessfunc(neurongenome):\n",
    "    "
   ]
  },
  {
   "cell_type": "code",
   "execution_count": 4,
   "id": "72ad4575",
   "metadata": {},
   "outputs": [
    {
     "data": {
      "text/plain": [
       "0"
      ]
     },
     "execution_count": 4,
     "metadata": {},
     "output_type": "execute_result"
    }
   ],
   "source": [
    "sol1 = np.array([ 14.82024187,  10.61253584,-12.15141158,  -4.61967513,-15.81543225,  15.62745189,  14.71262429,   2.0523492 , 1.86045721, -10.25813196,  -0.29218389,  -2.47607644, 1.13091869,   4.00518322,   3.57617411])\n",
    "HPexample = np.array([6.45682782e-02 ,4.69660585e-02, 7.99857040e-02, 8.78069405e-01, 8.64082556e-01, 9.21333979e-01, 4.20627851e+01, 1.84534807e+01, 1.36000000e+02])\n",
    "acceptance(HPexample,sol1)"
   ]
  },
  {
   "cell_type": "markdown",
   "id": "c62b1bbf",
   "metadata": {},
   "source": [
    "First, obtain a 4-neuron solution that is pyloric (do we need the two PD neurons to oscillate on their own? HP will act on them to keep them that way. That's another question, though. For this, we want to understand it in terms of the HP-less parameter space.)\n",
    "\n",
    "Good thing to test in the future: what if n's 3 and 4 do oscillate, but only when n3 is connected to the other two neurons. Or, really, what if you only applied HP to N3 in the original case?"
   ]
  },
  {
   "cell_type": "markdown",
   "id": "ea689232",
   "metadata": {},
   "source": [
    "Greater success with evolving an HP mechanism to act on only the two PD neurons?"
   ]
  }
 ],
 "metadata": {
  "kernelspec": {
   "display_name": "Python 3.8.8 ('base')",
   "language": "python",
   "name": "python3"
  },
  "language_info": {
   "codemirror_mode": {
    "name": "ipython",
    "version": 3
   },
   "file_extension": ".py",
   "mimetype": "text/x-python",
   "name": "python",
   "nbconvert_exporter": "python",
   "pygments_lexer": "ipython3",
   "version": "3.8.8"
  },
  "vscode": {
   "interpreter": {
    "hash": "5648c8d6edd7080fc7edc4bc6bab23d6f8a7d007392a088bb230c24ee010ba10"
   }
  }
 },
 "nbformat": 4,
 "nbformat_minor": 5
}
