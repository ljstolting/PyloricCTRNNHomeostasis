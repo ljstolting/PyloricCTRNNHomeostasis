{
 "cells": [
  {
   "cell_type": "code",
   "execution_count": 2,
   "id": "87e44f4b",
   "metadata": {},
   "outputs": [],
   "source": [
    "import numpy as np\n",
    "from pyloricfitness import *\n",
    "from CTRNNgenomesamp import *"
   ]
  },
  {
   "cell_type": "code",
   "execution_count": 3,
   "id": "8405201b",
   "metadata": {},
   "outputs": [],
   "source": [
    "#a pyloric-like neurongenome evolved from the other notebook\n",
    "\n",
    "sol1 = np.array([ 14.82024187,  10.61253584,-12.15141158,  -4.61967513,-15.81543225,  15.62745189,  14.71262429,   2.0523492 , 1.86045721, -10.25813196,  -0.29218389,  -2.47607644, 1.13091869,   4.00518322,   3.57617411])"
   ]
  },
  {
   "cell_type": "code",
   "execution_count": 4,
   "id": "bb8c4b08",
   "metadata": {},
   "outputs": [],
   "source": [
    "neuronsampsize = 500\n",
    "width = 1 #how large of a region to extend around the solution\n",
    "\n",
    "neurongenomesamp = neuron_genome_samp(neuronsampsize,sol1,width) #quasirandom sample"
   ]
  },
  {
   "cell_type": "code",
   "execution_count": 25,
   "id": "5ef1b7b5",
   "metadata": {},
   "outputs": [
    {
     "name": "stdout",
     "output_type": "stream",
     "text": [
      "Array exported to file\n"
     ]
    }
   ],
   "source": [
    "with open('neurongenomesample.csv', 'w') as my_file:\n",
    "    np.savetxt('neurongenomesample.csv',neurongenomesamp)\n",
    "print('Array exported to file')"
   ]
  },
  {
   "cell_type": "code",
   "execution_count": 8,
   "id": "0886f90b",
   "metadata": {},
   "outputs": [
    {
     "name": "stdout",
     "output_type": "stream",
     "text": [
      "possible double-periodicity\n",
      "CTRNN [ 14.88030046  11.189196   -11.55131392  -4.85551497 -16.\n",
      "  15.03126048  15.1369407    2.09580623   2.01914862  -9.79182337\n",
      "  -0.04755498  -2.85937722   1.13091869   4.00518322   3.57617411]\n",
      "HP [0. 0. 0. 1. 1. 1. 1. 1. 1.]\n",
      "possible double-periodicity\n",
      "CTRNN [ 15.25530046  10.814196   -11.92631392  -3.98051497 -15.56494397\n",
      "  14.65626048  15.0119407    1.97080623   2.14414862  -9.91682337\n",
      "  -0.92255498  -2.23437722   1.13091869   4.00518322   3.57617411]\n",
      "HP [0. 0. 0. 1. 1. 1. 1. 1. 1.]\n",
      "possible double-periodicity\n",
      "CTRNN [ 15.44280046  10.626696   -11.36381392  -4.41801497 -16.\n",
      "  16.          13.8244407    1.15830623   1.45664862 -10.97932337\n",
      "  -0.98505498  -1.67187722   1.13091869   4.00518322   3.57617411]\n",
      "HP [0. 0. 0. 1. 1. 1. 1. 1. 1.]\n",
      "possible double-periodicity\n",
      "CTRNN [ 15.76311296  10.1813835  -12.07475142  -4.70707747 -16.\n",
      "  14.72657298  15.3791282    1.83799373   1.44883612 -10.34651087\n",
      "  -0.71161748  -1.92968972   1.13091869   4.00518322   3.57617411]\n",
      "HP [0. 0. 0. 1. 1. 1. 1. 1. 1.]\n",
      "possible double-periodicity\n",
      "CTRNN [ 14.48381609  11.45677412 -11.63920455  -4.6387181  -16.\n",
      "  16.          14.93186257   1.46494686   1.54063299  -9.74690149\n",
      "  -0.34638311  -2.4121116    1.13091869   4.00518322   3.57617411]\n",
      "HP [0. 0. 0. 1. 1. 1. 1. 1. 1.]\n",
      "Good to go\n"
     ]
    }
   ],
   "source": [
    "#precalculate the pyloric fitness of each circuit in the sample\n",
    "pyloricfitnessofsamp = np.zeros(neuronsampsize)\n",
    "for i in range(neuronsampsize):\n",
    "    pyloricfitnessofsamp[i] = pyloriclike(neurongenomesamp[i])\n",
    "\n",
    "#check whether sample includes at least one pyloric and one nonpyloric circuit to classify\n",
    "\n",
    "if(pyloricfitnessofsamp>=.3).all():\n",
    "    raise Exception(\"All circuits pyloric\")\n",
    "elif(pyloricfitnessofsamp<.3).all():\n",
    "    raise Exception(\"No pyloric circuits\")\n",
    "else:\n",
    "    print(\"Good to go\")"
   ]
  },
  {
   "cell_type": "code",
   "execution_count": 10,
   "id": "2a9503c5",
   "metadata": {},
   "outputs": [],
   "source": [
    "pyloricones = neurongenomesamp[pyloricfitnessofsamp>=.3]\n",
    "nonpyloricones = neurongenomesamp[pyloricfitnessofsamp<.3]\n",
    "pyloriccount = len(pyloricones)\n",
    "nonpyloriccount = len(nonpyloricones)"
   ]
  },
  {
   "cell_type": "code",
   "execution_count": 17,
   "id": "673adf2c",
   "metadata": {},
   "outputs": [
    {
     "name": "stdout",
     "output_type": "stream",
     "text": [
      "[0.         0.2        0.         0.25       0.         0.25\n",
      " 0.25       0.2        0.         0.         0.25       0.1\n",
      " 0.25       0.2        0.         0.25       0.         0.2\n",
      " 0.         0.25       0.25       0.25       0.         0.\n",
      " 0.25       0.         0.808032   0.25       0.         0.\n",
      " 0.25       0.         0.25       0.2        0.25       0.\n",
      " 0.         0.65780097 0.2        0.2        0.5077498  0.\n",
      " 0.25       0.         0.25       0.         0.25       0.2\n",
      " 0.2        0.25       0.         0.25       0.         0.\n",
      " 0.05       0.1        0.         0.         0.25       0.\n",
      " 0.25       0.25       0.         0.25       0.         0.1\n",
      " 0.2        0.         0.         0.25       0.         0.\n",
      " 0.25       0.1        0.59477823 0.         0.         0.\n",
      " 0.25       0.         0.2        0.25       0.         0.25\n",
      " 0.25       0.         0.         0.         0.         0.\n",
      " 0.         0.         0.25       0.         0.25       0.25\n",
      " 0.         0.54037844 0.05       0.         0.         0.25\n",
      " 0.         0.         0.         0.25       0.         0.2\n",
      " 0.         0.05       0.25       0.1        0.25       0.\n",
      " 0.25       0.1        0.         0.05       0.         0.05\n",
      " 0.         0.25       0.         0.25       0.         0.\n",
      " 0.         0.         0.25       0.2        0.25       0.\n",
      " 0.53215201 0.         0.25       0.25       0.1        0.\n",
      " 0.2        0.         0.05       0.         0.         0.\n",
      " 0.         0.         0.25       0.         0.         0.\n",
      " 0.1        0.         0.25       0.25       0.48183901 0.25\n",
      " 0.         0.         0.1        0.         0.25       0.2\n",
      " 0.         0.2        0.         0.25       0.25       0.25\n",
      " 0.         0.25       0.         0.         0.25       0.25\n",
      " 0.         0.         0.25       0.25       0.         0.25\n",
      " 0.         0.         0.2        0.         0.         0.\n",
      " 0.25       0.         0.25       0.2        0.25       0.25\n",
      " 0.         0.         0.05       0.25       0.         0.25\n",
      " 0.         0.         0.25       0.         0.         0.25\n",
      " 0.62310697 0.         0.25       0.1        0.25       0.25\n",
      " 0.         0.25       0.         0.53104122 0.         0.2\n",
      " 0.         0.25       0.         0.         0.25       0.1\n",
      " 0.         0.25       0.         0.48549958 0.25       0.\n",
      " 0.25       0.1        0.         0.         0.25       0.\n",
      " 0.1        0.25       0.59812823 0.         0.25       0.\n",
      " 0.15       0.         0.25       0.         0.         0.25\n",
      " 0.25       0.         0.15       0.         0.         0.25\n",
      " 0.         0.         0.2        0.1        0.25       0.2\n",
      " 0.         0.25       0.25       0.25       0.25       0.25\n",
      " 0.         0.         0.         0.25       0.15       0.25\n",
      " 0.         0.1        0.         0.         0.25       0.\n",
      " 0.         0.         0.         0.         0.1        0.\n",
      " 0.84056774 0.25       0.         0.25       0.         0.\n",
      " 0.         0.         0.7670548  0.1        0.         0.\n",
      " 0.         0.25       0.25       0.         0.1        0.\n",
      " 0.25       0.73899981 0.         0.         0.25       0.2\n",
      " 0.         0.2        0.56091208 0.         0.         0.25\n",
      " 0.         0.25       0.         0.         0.         0.2\n",
      " 0.         0.         0.25       0.         0.         0.\n",
      " 0.25       0.2        0.25       0.25       0.         0.25\n",
      " 0.         0.25       0.         0.         0.1        0.\n",
      " 0.25       0.         0.05       0.25       0.25       0.\n",
      " 0.25       0.49358603 0.         0.25       0.25       0.\n",
      " 0.2        0.25       0.2        0.2        0.         0.25\n",
      " 0.2        0.         0.         0.2        0.25       0.25\n",
      " 0.25       0.25       0.         0.25       0.         0.25\n",
      " 0.         0.25       0.         0.60979705 0.5166201  0.25\n",
      " 0.         0.25       0.         0.         0.89755838 0.2\n",
      " 0.57074317 0.         0.         0.         0.25       0.05\n",
      " 0.25       0.25       0.         0.         0.         0.\n",
      " 0.25       0.25       0.25       0.         0.25       0.\n",
      " 0.25       0.05       0.82320458 0.25       0.         0.57982828\n",
      " 0.25       0.82115477 0.2        0.25       0.         0.\n",
      " 0.25       0.15       0.25       0.25       0.         0.\n",
      " 0.25       0.         0.25       0.25       0.         0.25\n",
      " 0.         0.2        0.1        0.25       0.82594853 0.\n",
      " 0.48241284 0.         0.         0.25       0.         0.25\n",
      " 0.         0.25       0.         0.2        0.         0.51805095\n",
      " 0.2        0.2        0.25       0.         0.62271853 0.\n",
      " 0.25       0.25       0.         0.25       0.         0.\n",
      " 0.25       0.71645307 0.         0.25       0.         0.\n",
      " 0.25       0.2        0.25       0.         0.53290637 0.\n",
      " 0.25       0.         0.25       0.2        0.         0.25\n",
      " 0.         0.25       0.25       0.25       0.25       0.\n",
      " 0.25       0.         0.25       0.         0.05       0.25\n",
      " 0.         0.25       0.15       0.25       0.2        0.2\n",
      " 0.         0.         0.86045599 0.2        0.47736766 0.2\n",
      " 0.         0.25       0.25       0.25       0.05       0.\n",
      " 0.         0.        ]\n"
     ]
    }
   ],
   "source": [
    "print(pyloricfitnessofsamp)"
   ]
  },
  {
   "cell_type": "code",
   "execution_count": 24,
   "id": "982f8ee1",
   "metadata": {},
   "outputs": [
    {
     "name": "stdout",
     "output_type": "stream",
     "text": [
      "Array exported to file\n"
     ]
    }
   ],
   "source": [
    "with open('pyloricfitnessofsample.csv', 'w') as my_file:\n",
    "    np.savetxt('pyloricfitnessofsample.csv',pyloricfitnessofsamp)\n",
    "print('Array exported to file')"
   ]
  }
 ],
 "metadata": {
  "kernelspec": {
   "display_name": "Python 3 (ipykernel)",
   "language": "python",
   "name": "python3"
  },
  "language_info": {
   "codemirror_mode": {
    "name": "ipython",
    "version": 3
   },
   "file_extension": ".py",
   "mimetype": "text/x-python",
   "name": "python",
   "nbconvert_exporter": "python",
   "pygments_lexer": "ipython3",
   "version": "3.8.8"
  }
 },
 "nbformat": 4,
 "nbformat_minor": 5
}
