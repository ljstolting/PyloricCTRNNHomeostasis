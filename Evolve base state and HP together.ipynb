{
 "cells": [
  {
   "cell_type": "markdown",
   "id": "118a1988",
   "metadata": {},
   "source": [
    "Idea and Hypothesis:\n",
    "When evolving the base CTRNN state and the HP mechanism together to perform well at various temperature values (arbitrary global perturbation), we expect two non-mutually exclusive strategies to emerge\n",
    "\n",
    "1) Move the base state to an area of parameter space where temperature variation induces a relatively mild fitness dropoff (is aligned with a degenerate fitness ridge)\n",
    "\n",
    "2) Identify an HP mechanism which activates in response to temperature changes and restores parameters to a fit location\n",
    "\n",
    "2b) Identify an HP mechanism which, when seeded with the appropriate base state, drives an oscillation that is reasonably fit and maintains this oscillation despite temperature variation. "
   ]
  },
  {
   "cell_type": "code",
   "execution_count": 1,
   "id": "d413bbc3",
   "metadata": {},
   "outputs": [],
   "source": [
    "import numpy as np\n",
    "import matplotlib.pyplot as plt\n",
    "from CTRNNclass import *\n",
    "from acceptance import *\n",
    "from HPevolution import *\n",
    "from pyloricfitness import *\n",
    "from CTRNNgenomesamp import *"
   ]
  },
  {
   "cell_type": "markdown",
   "id": "f27feb6a",
   "metadata": {},
   "source": [
    "### Additional thoughts:\n",
    "- How do these things depend on the nature of the perturbation? \n",
    "\n",
    "    - Variations to test: (1) Ordered global direciton vs. random noise (makes impossible to align to degenerate edge), (2) Different ordered global directions may be easier or harder to find edges corresponding to them and/or HP mechanisms suited to them and/or HP mechanisms which can continue to drive appropriate oscillations under their conditions\n",
    "    \n",
    "- How do these things depend on the nature of the task?\n",
    "\n",
    "    - For example, with the walker, maybe degenerate ridges are easier to find, or maybe HP mechanisms are easier to find, or maybe this HP formulation is just better suited to the task (i.e. sliding window can make the shape, order doesn't matter) \n",
    "    \n",
    "    - What about a behaving circuit that needs to respond to stimuli appropriately (not a CPG)? Then, maybe HP is a less viable option (disrupts appropriate responses). Maybe this could be remedied with slowing it down (separation of timescales), but how much is reasonable? And if not, this would be a major hit to the idea of HP because true CPG's do not exist. \n",
    "    \n",
    "- How do these things depend on the nature of HP?\n",
    "\n",
    "    - Differential application, sliding window, Hywell Williams vs. DiPaolo protocols, ...\n",
    "    \n",
    "    - Including a pacemaker element?\n",
    "    \n",
    "    - Dealing with time constants - should they reasonably be affected by temperature? should they reasonably be under the control of HP? What would it mean for animals if their HP had or didn't have control over them?\n",
    "    \n",
    "    - Demonstrated that HP needs capping so that weights don't go to zero with biases exploding - think about why that is\n",
    "\n",
    "- How do these things depend on the details of evolution?\n",
    "\n",
    "    - Evolving basal state first and then HP (or vice versa) vs. concurrently \n",
    "    \n",
    "    - Differently weighting the importance of performing under basal state vs. performing under perturbation\n",
    "    \n",
    "    - Crossover and mutation differences (keeping basal state and HP as separate units)\n",
    "    \n",
    "- How would an experimentalist observe this?\n",
    "\n",
    "    - Crabs pulled from the environment with variability along the degenerate fitness ridges? Response bias or evolution at work?\n",
    "        - Different arrangement when the perturbations have been larger/more disruptive? (i.e. climate change)\n",
    "        - Observe correlational structure even though none is \"built in\" to the HP mechanisms? Or even when no HP mechanism is present at all\n",
    "    \n",
    "    - "
   ]
  },
  {
   "cell_type": "code",
   "execution_count": 2,
   "id": "fe3d47a0",
   "metadata": {},
   "outputs": [],
   "source": [
    "###### HP sample params ###########\n",
    "taubbounds = [10,30]\n",
    "tauwbounds = [30,50]\n",
    "slidingwindowbounds = [1,100]\n",
    "\n",
    "def randomHPsample(CTRNNsize, samplesize):\n",
    "    genomes = np.zeros((samplesize,(CTRNNsize*2) + 3))\n",
    "    for i in range(samplesize): #first, set random bias time constant, weight time constant, and sliding window length\n",
    "        HPgenome = np.array([1,1,1,0,0,0,np.random.uniform(low=tauwbounds[0],high=tauwbounds[1]),np.random.uniform(low=taubbounds[0],high=taubbounds[1]),np.random.randint(low=slidingwindowbounds[0],high=slidingwindowbounds[1])])\n",
    "        for j in range(CTRNNsize): #for every neuron, set a lower and upper bound\n",
    "            while HPgenome[j] > .5:\n",
    "                HPgenome[j] = 1-np.random.power(1)  #could have just had uniform distributuion like the rest, but I felt the need to sample the most solutions with wide target ranges\n",
    "            while HPgenome[j+CTRNNsize] < .5:\n",
    "                HPgenome[j+CTRNNsize] = np.random.power(1)\n",
    "        genomes[i] = HPgenome\n",
    "    return genomes\n",
    "\n",
    "###### CTRNN base state sample params ########\n",
    "wtbounds = [-16,16]\n",
    "biasbounds = [-16,16]\n",
    "taubounds = [.5,10]\n",
    "n = 3\n",
    "\n",
    "def randomCTRNNsample(CTRNNsize,samplesize):\n",
    "    n = CTRNNsize\n",
    "    genelength = (n**2)+(2*n)\n",
    "    genomes = np.zeros((samplesize,genelength))\n",
    "    for i in range(samplesize):\n",
    "        wts = np.random.uniform(low = wtbounds[0],high = wtbounds[1],size = (n**2))\n",
    "        biases = np.random.uniform(low = biasbounds[0],high = biasbounds[1],size = n)\n",
    "        taus = np.random.uniform(low = taubounds[0],high = taubounds[1],size = n)\n",
    "        CTRNNgenome = np.concatenate((wts,biases,taus))\n",
    "        genomes[i] = CTRNNgenome\n",
    "    return genomes"
   ]
  },
  {
   "cell_type": "code",
   "execution_count": 3,
   "id": "0022bab1",
   "metadata": {},
   "outputs": [],
   "source": [
    "#a pyloric-like neurongenome evolved from the other notebook\n",
    "#in case ever needed\n",
    "\n",
    "sol1 = np.array([ 14.82024187,  10.61253584,-12.15141158,  -4.61967513,-15.81543225,  15.62745189,  14.71262429,   2.0523492 , 1.86045721, -10.25813196,  -0.29218389,  -2.47607644, 1.13091869,   4.00518322,   3.57617411])"
   ]
  },
  {
   "cell_type": "code",
   "execution_count": 9,
   "id": "48a258d9",
   "metadata": {},
   "outputs": [
    {
     "name": "stdout",
     "output_type": "stream",
     "text": [
      "[ 0.2919818  -0.19653026 -0.3824069  -0.28102191  0.17555101 -0.15973807\n",
      " -0.16450977 -0.1198932   0.47956992  0.50142158 -0.26209938 -0.05508989]\n"
     ]
    }
   ],
   "source": [
    "##### Global perturbation (temperature) params #######\n",
    "n = 3\n",
    "freepars = (n**2) + n  #number of pars that will be perturbed by temperature (not time constants)\n",
    "globalpertdirection = np.random.uniform(-1,1,size=freepars) \n",
    "pertvector = (globalpertdirection/np.linalg.norm(globalpertdirection)) #normalized to have length 1\n",
    "globalpertmagnitude = 1 #length it will actually have in practice\n",
    "pts = 3 #number of locations to test along the pertvector\n",
    "\n",
    "print(pertvector)\n",
    "\n",
    "def fitnessfunc(genome):\n",
    "    '''genome has the form [weights,biases,timeconsts,lbs,ubs,taub,tauw,slidingwindow]. \n",
    "    pertvector and the number of sample points along it is defined outside the function\n",
    "    Apply perts of different magnitudes to the homeostatic CTRNN and average its pyloric fitness @ each point'''\n",
    "    neurongenome = genome[:-((2*n)+3)]\n",
    "    HPgenome = genome[-((2*n)+3):]\n",
    "    fitnesssum = 0\n",
    "    for i in np.linspace(0,globalpertmagnitude,pts): \n",
    "        neurongenome[:len(pertvector)] += (i*pertvector)\n",
    "        fitnesssum += pyloriclike(neurongenome,HPgenome)\n",
    "    return (fitnesssum/pts)"
   ]
  },
  {
   "cell_type": "code",
   "execution_count": 5,
   "id": "104abf6c",
   "metadata": {},
   "outputs": [
    {
     "name": "stdout",
     "output_type": "stream",
     "text": [
      "example genome [ -1.74210778 -10.32777833 -12.30614074   5.63527595  -2.3767056\n",
      "  13.83257816   5.36861722 -15.87031069   7.99261014 -10.94222297\n",
      "  -4.84435278  -6.70680397   5.4132097    1.77899558   3.48372781\n",
      "   0.31569187   0.06065861   0.06721901   0.53846188   0.75036543\n",
      "   0.81917537  30.68826521  15.65602958  14.        ]\n"
     ]
    }
   ],
   "source": [
    "#####Microbial Genetic Algorithm Params ###############\n",
    "CTRNNsize = 3\n",
    "popsize = 15\n",
    "startpopulation = np.concatenate((randomCTRNNsample(CTRNNsize,popsize),randomHPsample(CTRNNsize,popsize)),axis=1)\n",
    "print('example genome', startpopulation[0])\n",
    "recombProb = .5 \n",
    "mutatProb = .25 #really, its the magnitude of mutation\n",
    "generations = 200\n",
    "differentialapp = [1,1,1] #HP can apply itself to any neuron\n",
    "\n",
    "M = Microbial(fitnessfunc, startpopulation, recombProb, mutatProb, generations, differentialapp)"
   ]
  },
  {
   "cell_type": "code",
   "execution_count": 6,
   "id": "76673b39",
   "metadata": {},
   "outputs": [
    {
     "name": "stdout",
     "output_type": "stream",
     "text": [
      "0\n",
      "0.6949110314078943\n",
      "unable to find two full cycles\n",
      "CTRNN [  1.34120254   0.29047698 -15.04462598  -1.922432     3.97382553\n",
      "   0.92644559 -12.76385669  -9.21532031 -15.04462598   2.89919334\n",
      "   0.8223705    3.50208161   6.57542161   1.4011577    3.11590776]\n",
      "HP [1.11710357e-02 7.53457389e-01 9.72619632e-02 8.81430010e-01\n",
      " 7.58537240e-01 1.07261963e-01 3.28417598e+01 1.34210556e+01\n",
      " 7.10000000e+01]\n",
      "possible double-periodicity\n",
      "CTRNN [-2.62117468  5.13543631 -2.00799153  0.89852185  5.67199857  2.36428679\n",
      "  6.45017446 -0.53924011  6.11289317 -1.81758301 -5.80805946 -2.36881167\n",
      "  8.34466354  5.71699943  0.37443606]\n",
      "HP [ 0.39450445  0.24823514  0.24188738  0.40450445  0.25823514  0.35077018\n",
      " 45.89937552 12.04251646  1.        ]\n",
      "possible double-periodicity\n",
      "CTRNN [-2.70978951  5.62532721 -1.85162405  1.01522144  5.98091434  2.67975183\n",
      "  6.66327002 -0.26415243  6.48455036 -1.6094542  -5.3929414  -2.3208986\n",
      "  8.34466354  5.71699943  0.37443606]\n",
      "HP [ 0.39450445  0.24823514  0.24188738  0.40450445  0.25823514  0.35077018\n",
      " 45.89937552 12.04251646  1.        ]\n",
      "possible double-periodicity\n",
      "CTRNN [14.26250465 -0.14149082 -3.14539141 -0.42902045  9.86558974 14.5094112\n",
      " -0.43647933 -8.01541354 -1.169189   -2.88193891  0.09322329 -0.58208921\n",
      "  4.96169994  5.79116169  2.41875026]\n",
      "HP [ 0.27741361  0.05839502  0.21100472  0.74084266  1.04221486  0.51535338\n",
      " 47.71787772 13.08896808 22.        ]\n",
      "unable to find two full cycles\n",
      "CTRNN [  1.25343617   1.54743037 -10.51904194   0.32237861   1.38307415\n",
      "   1.92094981 -11.16260584 -11.7039934  -13.30544825   2.6564624\n",
      "   0.56032737   9.25410947   6.66598208   1.11882334   0.80706408]\n",
      "HP [ 2.19709371e-01  4.12965854e-01 -1.44023750e-02  9.14154129e-01\n",
      "  4.22965854e-01  6.37013959e-01  3.32037144e+01  1.96269805e+01\n",
      "  7.90000000e+01]\n",
      "possible double-periodicity\n",
      "CTRNN [  2.12984735   0.3106023  -11.40535312  -1.36549138  12.13622753\n",
      "   3.48460315  -7.88792455  -6.8770283   -4.95431111   5.23329308\n",
      "   1.35305829   4.11598358   6.9460408    0.75255279   3.29879039]\n",
      "HP [ 0.20452929  0.72211926  0.27832289  0.59737288  0.73211926  0.6721422\n",
      " 39.54812202 13.81829069 50.        ]\n",
      "possible double-periodicity\n",
      "CTRNN [  1.87404426   0.47898691 -10.97359516  -1.31227184  11.77806174\n",
      "   3.77124495  -8.08206536  -6.74267069  -4.75850191   5.2204217\n",
      "   1.47520916   4.04293207   6.9460408    0.75255279   3.29879039]\n",
      "HP [ 0.20452929  0.72211926  0.27832289  0.59737288  0.73211926  0.6721422\n",
      " 39.54812202 13.81829069 50.        ]\n",
      "possible double-periodicity\n",
      "CTRNN [13.9633213   0.45152792 -7.00869338  1.95060195  9.60970057  6.77925597\n",
      " -1.19104725 -7.44047048 -1.8398375  -2.88993111  0.49940248 -1.97925959\n",
      "  8.17598154  1.67672589  2.84434981]\n",
      "HP [ 0.57843233  0.79802268  0.30882005  0.58843233  0.80802268  0.41976867\n",
      " 47.90639622 13.33155536 62.        ]\n",
      "possible double-periodicity\n",
      "CTRNN [13.9019465   0.53319443 -7.08649466  2.04834551  8.06978653  6.81990033\n",
      " -1.22058428 -8.50260909 -1.84350894 -2.78951771  0.07520717 -2.21165058\n",
      "  8.17598154  1.67672589  2.84434981]\n",
      "HP [ 0.57843233  0.79802268  0.30882005  0.58843233  0.80802268  0.41976867\n",
      " 47.90639622 13.33155536 62.        ]\n",
      "possible double-periodicity\n",
      "CTRNN [ -0.23029567   2.00692643  -3.39032741   1.48374466   0.14576796\n",
      "   4.29988944  -2.48651626 -13.64642149   7.59925538   2.26944235\n",
      "   1.19299355  -1.00798893   6.08799519   1.73237737   0.65860451]\n",
      "HP [ 0.57009789  0.28066459  0.27208763  1.17078174  0.29066459  0.28208763\n",
      " 40.02493775 18.6957997  72.        ]\n",
      "possible double-periodicity\n",
      "CTRNN [-0.09418832  1.00231735 -5.76796137 -1.30500365  5.52339585  0.65660008\n",
      " -8.30117587 -7.83792487  2.77611423  4.28906771  1.77751673 -0.89934426\n",
      "  8.89476294  9.49711961  0.1998179 ]\n",
      "HP [1.03258566e-02 1.99923438e-01 8.04161891e-01 7.63931592e-01\n",
      " 8.55843111e-01 8.95647531e-01 3.12891729e+01 1.47919892e+01\n",
      " 8.30000000e+01]\n",
      "possible double-periodicity\n",
      "CTRNN [-0.30295476  1.17125063 -5.52189449 -1.24092516  5.44347833  0.85798033\n",
      " -8.43636545 -7.6201233   2.89825578  4.31774062  1.94936503 -0.99299608\n",
      "  8.89476294  9.49711961  0.1998179 ]\n",
      "HP [1.03258566e-02 1.99923438e-01 8.04161891e-01 7.63931592e-01\n",
      " 8.55843111e-01 8.95647531e-01 3.12891729e+01 1.47919892e+01\n",
      " 8.30000000e+01]\n",
      "possible double-periodicity\n",
      "CTRNN [-1.74771214  3.33870425 -1.88932977  8.32306141  5.1433126   1.74849976\n",
      " -4.09269378 -9.14821993  8.16774909 -0.0937835  -3.6946628  -3.06355028\n",
      "  8.50421777  9.69886085  2.23801197]\n",
      "HP [ 0.80357093  0.38674979  0.71256454  0.98125979  0.39674979  0.72256454\n",
      " 39.91791407 18.6682674  58.        ]\n",
      "possible double-periodicity\n",
      "CTRNN [ -3.67943904   6.72061141   0.73711624   6.11621089   6.79100264\n",
      "   6.93763158 -10.08356689  -3.46577406   6.40357102   1.07769336\n",
      "  -2.0516366   -3.9709964    7.70793959   9.48121137   1.83171089]\n",
      "HP [-0.11266883  0.1154758   0.31143361  0.52862827  0.1254758   0.87789555\n",
      " 39.88718205 18.94213713 17.        ]\n",
      "possible double-periodicity\n",
      "CTRNN [-1.69293070e+00 -1.99878690e-05 -2.47449432e-01  1.84358879e+00\n",
      " -1.74819681e-04 -1.05428213e+00 -6.11171120e+00 -8.52117674e-04\n",
      "  9.98915783e+00  2.21483699e-01  2.19764827e-01 -2.94546009e+00\n",
      "  6.55006666e+00  1.00964110e+01  3.19768254e+00]\n",
      "HP [3.01384113e-02 5.54554914e-01 6.23914844e-01 8.31234920e-02\n",
      " 7.90446757e-01 6.33914844e-01 3.12795287e+01 1.89700786e+01\n",
      " 3.50000000e+01]\n"
     ]
    },
    {
     "name": "stderr",
     "output_type": "stream",
     "text": [
      "C:\\Users\\LJSbo\\Pyloric Rhythm CTRNNs\\CTRNNclass.py:7: RuntimeWarning: overflow encountered in exp\n",
      "  return 1/(1+np.exp(-x))\n",
      "C:\\Users\\LJSbo\\Pyloric Rhythm CTRNNs\\CTRNNclass.py:117: RuntimeWarning: overflow encountered in multiply\n",
      "  self.States += self.dt * (self.invTimeConstants*(-self.States+netinput))\n"
     ]
    },
    {
     "name": "stdout",
     "output_type": "stream",
     "text": [
      "unable to find two full cycles\n",
      "CTRNN [-3.09270304e+00  3.03449363e-01  8.41792398e-04  5.05693690e+00\n",
      "  2.52463889e+00  8.21946640e-04 -1.60000000e+01 -1.60000000e+01\n",
      "  8.28216191e-04  5.60389314e-01 -1.14334345e+00 -5.00391264e+00\n",
      "  8.93361117e+00  1.42302106e+00  2.84238854e+00]\n",
      "HP [-0.89686692  0.28944066 -0.1436959   1.05418957  0.65324891 -0.1336959\n",
      " 39.85565502 18.69094266 97.        ]\n"
     ]
    },
    {
     "ename": "KeyboardInterrupt",
     "evalue": "",
     "output_type": "error",
     "traceback": [
      "\u001b[1;31m---------------------------------------------------------------------------\u001b[0m",
      "\u001b[1;31mKeyboardInterrupt\u001b[0m                         Traceback (most recent call last)",
      "Input \u001b[1;32mIn [6]\u001b[0m, in \u001b[0;36m<cell line: 1>\u001b[1;34m()\u001b[0m\n\u001b[1;32m----> 1\u001b[0m \u001b[43mM\u001b[49m\u001b[38;5;241;43m.\u001b[39;49m\u001b[43mrun\u001b[49m\u001b[43m(\u001b[49m\u001b[43m)\u001b[49m\n\u001b[0;32m      2\u001b[0m M\u001b[38;5;241m.\u001b[39mshowFitness()\n",
      "File \u001b[1;32m~\\Pyloric Rhythm CTRNNs\\HPevolution.py:91\u001b[0m, in \u001b[0;36mMicrobial.run\u001b[1;34m(self)\u001b[0m\n\u001b[0;32m     89\u001b[0m \u001b[38;5;28;01mfor\u001b[39;00m i \u001b[38;5;129;01min\u001b[39;00m \u001b[38;5;28mrange\u001b[39m(\u001b[38;5;28mself\u001b[39m\u001b[38;5;241m.\u001b[39mCTRNNsize):\n\u001b[0;32m     90\u001b[0m     \u001b[38;5;28;01mif\u001b[39;00m loserlb \u001b[38;5;241m>\u001b[39m\u001b[38;5;241m=\u001b[39m loserub: \u001b[38;5;66;03m#if lb greater than upper bound for any neuron,\u001b[39;00m\n\u001b[1;32m---> 91\u001b[0m         \u001b[38;5;28mself\u001b[39m\u001b[38;5;241m.\u001b[39mpop[loser,\u001b[38;5;241m-\u001b[39m(\u001b[38;5;241m3\u001b[39m\u001b[38;5;241m+\u001b[39m(\u001b[38;5;241m2\u001b[39m\u001b[38;5;241m*\u001b[39m\u001b[38;5;28mself\u001b[39m\u001b[38;5;241m.\u001b[39mCTRNNsize)\u001b[38;5;241m-\u001b[39mi)] \u001b[38;5;241m=\u001b[39m loserub \u001b[38;5;241m-\u001b[39m \u001b[38;5;241m.01\u001b[39m \u001b[38;5;66;03m#minimum width of range is .01\u001b[39;00m\n\u001b[0;32m     92\u001b[0m     \u001b[38;5;28;01mif\u001b[39;00m loserlb \u001b[38;5;241m<\u001b[39m \u001b[38;5;241m0\u001b[39m:\n\u001b[0;32m     93\u001b[0m         loserlb \u001b[38;5;241m=\u001b[39m \u001b[38;5;241m0\u001b[39m\n",
      "Input \u001b[1;32mIn [4]\u001b[0m, in \u001b[0;36mfitnessfunc\u001b[1;34m(genome)\u001b[0m\n\u001b[0;32m     16\u001b[0m \u001b[38;5;28;01mfor\u001b[39;00m i \u001b[38;5;129;01min\u001b[39;00m np\u001b[38;5;241m.\u001b[39mlinspace(\u001b[38;5;241m0\u001b[39m,globalpertmagnitude,pts): \n\u001b[0;32m     17\u001b[0m     neurongenome[:\u001b[38;5;28mlen\u001b[39m(pertvector)] \u001b[38;5;241m+\u001b[39m\u001b[38;5;241m=\u001b[39m (i\u001b[38;5;241m*\u001b[39mpertvector)\n\u001b[1;32m---> 18\u001b[0m     fitnesssum \u001b[38;5;241m+\u001b[39m\u001b[38;5;241m=\u001b[39m \u001b[43mpyloriclike\u001b[49m\u001b[43m(\u001b[49m\u001b[43mneurongenome\u001b[49m\u001b[43m,\u001b[49m\u001b[43mHPgenome\u001b[49m\u001b[43m)\u001b[49m\n\u001b[0;32m     19\u001b[0m \u001b[38;5;28;01mreturn\u001b[39;00m (fitnesssum\u001b[38;5;241m/\u001b[39mpts)\n",
      "File \u001b[1;32m~\\Pyloric Rhythm CTRNNs\\pyloricfitness.py:26\u001b[0m, in \u001b[0;36mpyloriclike\u001b[1;34m(neurongenome, HPgenome)\u001b[0m\n\u001b[0;32m     24\u001b[0m C\u001b[38;5;241m.\u001b[39mresetStepcount()\n\u001b[0;32m     25\u001b[0m \u001b[38;5;28;01mfor\u001b[39;00m i \u001b[38;5;129;01min\u001b[39;00m \u001b[38;5;28mrange\u001b[39m(\u001b[38;5;28mlen\u001b[39m(C\u001b[38;5;241m.\u001b[39mtime)):        \u001b[38;5;66;03m#run the CTRNN for the allotted duration\u001b[39;00m\n\u001b[1;32m---> 26\u001b[0m     \u001b[43mC\u001b[49m\u001b[38;5;241;43m.\u001b[39;49m\u001b[43mctrnnstep\u001b[49m\u001b[43m(\u001b[49m\u001b[43mHP\u001b[49m\u001b[43m)\u001b[49m \u001b[38;5;66;03m#could be applying HP, but if not otherwise specified then the target ranges will be set to null (slightly slow)\u001b[39;00m\n\u001b[0;32m     27\u001b[0m \u001b[38;5;66;03m#check if first three neurons were oscillating (all the way from silent to burst) by the end of the run\u001b[39;00m\n\u001b[0;32m     28\u001b[0m osc \u001b[38;5;241m=\u001b[39m np\u001b[38;5;241m.\u001b[39mzeros(\u001b[38;5;241m3\u001b[39m)\n",
      "File \u001b[1;32m~\\Pyloric Rhythm CTRNNs\\CTRNNclass.py:126\u001b[0m, in \u001b[0;36mCTRNN.ctrnnstep\u001b[1;34m(self, adapt)\u001b[0m\n\u001b[0;32m    124\u001b[0m     \u001b[38;5;28mself\u001b[39m\u001b[38;5;241m.\u001b[39mplasticFacilitationCalc()\n\u001b[0;32m    125\u001b[0m     \u001b[38;5;28mself\u001b[39m\u001b[38;5;241m.\u001b[39mupdateBiases()\n\u001b[1;32m--> 126\u001b[0m     \u001b[38;5;28;43mself\u001b[39;49m\u001b[38;5;241;43m.\u001b[39;49m\u001b[43mupdateWeights\u001b[49m\u001b[43m(\u001b[49m\u001b[43m)\u001b[49m\n\u001b[0;32m    127\u001b[0m \u001b[38;5;28mself\u001b[39m\u001b[38;5;241m.\u001b[39mStepnum \u001b[38;5;241m+\u001b[39m\u001b[38;5;241m=\u001b[39m \u001b[38;5;241m1\u001b[39m\n",
      "File \u001b[1;32m~\\Pyloric Rhythm CTRNNs\\CTRNNclass.py:107\u001b[0m, in \u001b[0;36mCTRNN.updateWeights\u001b[1;34m(self)\u001b[0m\n\u001b[0;32m    105\u001b[0m \u001b[38;5;66;03m#print(\"incomingweights to \",j, \": \" ,incomingWeights)\u001b[39;00m\n\u001b[0;32m    106\u001b[0m incomingWeights \u001b[38;5;241m+\u001b[39m\u001b[38;5;241m=\u001b[39m \u001b[38;5;28mself\u001b[39m\u001b[38;5;241m.\u001b[39mdt \u001b[38;5;241m*\u001b[39m \u001b[38;5;28mself\u001b[39m\u001b[38;5;241m.\u001b[39minvadaptWTimeConst \u001b[38;5;241m*\u001b[39m \u001b[38;5;28mself\u001b[39m\u001b[38;5;241m.\u001b[39mrhos[j] \u001b[38;5;241m*\u001b[39m np\u001b[38;5;241m.\u001b[39mabsolute(incomingWeights)\n\u001b[1;32m--> 107\u001b[0m \u001b[38;5;28mself\u001b[39m\u001b[38;5;241m.\u001b[39mWeights[:,j] \u001b[38;5;241m=\u001b[39m incomingWeights\n\u001b[0;32m    108\u001b[0m \u001b[38;5;28;01mfor\u001b[39;00m i \u001b[38;5;129;01min\u001b[39;00m \u001b[38;5;28mrange\u001b[39m(\u001b[38;5;28mself\u001b[39m\u001b[38;5;241m.\u001b[39mSize):\n\u001b[0;32m    109\u001b[0m     \u001b[38;5;28;01mif\u001b[39;00m \u001b[38;5;28mself\u001b[39m\u001b[38;5;241m.\u001b[39mWeights[i,j] \u001b[38;5;241m>\u001b[39m\u001b[38;5;241m=\u001b[39m \u001b[38;5;241m16\u001b[39m:\n",
      "\u001b[1;31mKeyboardInterrupt\u001b[0m: "
     ]
    }
   ],
   "source": [
    "M.run()\n",
    "M.showFitness()\n",
    "\n",
    "#must increase transients for a longer HP process\n",
    "#investigae all the overflows\n",
    "#doubleperiodicity much more common with HP, or at least the appearance of it from a 3D projection"
   ]
  },
  {
   "cell_type": "code",
   "execution_count": 8,
   "id": "88ab03c2",
   "metadata": {},
   "outputs": [
    {
     "name": "stdout",
     "output_type": "stream",
     "text": [
      "(0.1605865410764879, 0.7326001666055033, array([-1.66277628e+00,  6.08372573e+00,  2.02550211e-02,  9.42733663e-01,\n",
      "        8.46697321e+00,  4.99193437e+00, -5.60691553e+00, -6.66479592e+00,\n",
      "        5.06919151e+00,  3.36623523e+00, -3.18997036e+00, -4.84189892e+00,\n",
      "        7.37470557e+00,  9.79376709e+00,  2.56164698e+00,  3.58472612e-01,\n",
      "        2.09458835e-01,  3.42017940e-01,  3.68472612e-01,  2.19458835e-01,\n",
      "        8.28364889e-01,  3.99910632e+01,  1.90137781e+01,  4.00000000e+01]))\n"
     ]
    }
   ],
   "source": [
    "print(M.fitStats())"
   ]
  }
 ],
 "metadata": {
  "kernelspec": {
   "display_name": "Python 3 (ipykernel)",
   "language": "python",
   "name": "python3"
  },
  "language_info": {
   "codemirror_mode": {
    "name": "ipython",
    "version": 3
   },
   "file_extension": ".py",
   "mimetype": "text/x-python",
   "name": "python",
   "nbconvert_exporter": "python",
   "pygments_lexer": "ipython3",
   "version": "3.8.8"
  }
 },
 "nbformat": 4,
 "nbformat_minor": 5
}
