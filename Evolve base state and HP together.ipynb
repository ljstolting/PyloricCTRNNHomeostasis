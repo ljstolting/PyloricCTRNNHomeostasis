{
 "cells": [
  {
   "cell_type": "markdown",
   "id": "118a1988",
   "metadata": {},
   "source": [
    "Idea and Hypothesis:\n",
    "When evolving the base CTRNN state and the HP mechanism together to perform well at various temperature values (arbitrary global perturbation), we expect two non-mutually exclusive strategies to emerge\n",
    "\n",
    "1) Move the base state to an area of parameter space where temperature variation induces a relatively mild fitness dropoff (is aligned with a degenerate fitness ridge)\n",
    "\n",
    "2) Identify an HP mechanism which activates in response to temperature changes and restores parameters to a fit location\n",
    "\n",
    "2b) Identify an HP mechanism which, when seeded with the appropriate base state, drives an oscillation that is reasonably fit and maintains this oscillation despite temperature variation. "
   ]
  },
  {
   "cell_type": "code",
   "execution_count": 1,
   "id": "d413bbc3",
   "metadata": {},
   "outputs": [],
   "source": [
    "import numpy as np\n",
    "import matplotlib.pyplot as plt\n",
    "from CTRNNclass import *\n",
    "from acceptance import *\n",
    "from HPevolution import *\n",
    "from pyloricfitness import *\n",
    "from SampleGenerators import *"
   ]
  },
  {
   "cell_type": "markdown",
   "id": "f27feb6a",
   "metadata": {},
   "source": [
    "### Additional thoughts:\n",
    "- How do these things depend on the nature of the perturbation? \n",
    "\n",
    "    - Variations to test: (1) Ordered global direciton vs. random noise (makes impossible to align to degenerate edge), (2) Different ordered global directions may be easier or harder to find edges corresponding to them and/or HP mechanisms suited to them and/or HP mechanisms which can continue to drive appropriate oscillations under their conditions\n",
    "    \n",
    "- How do these things depend on the nature of the task?\n",
    "\n",
    "    - For example, with the walker, maybe degenerate ridges are easier to find, or maybe HP mechanisms are easier to find, or maybe this HP formulation is just better suited to the task (i.e. sliding window can make the shape, order doesn't matter) \n",
    "    \n",
    "    - What about a behaving circuit that needs to respond to stimuli appropriately (not a CPG)? Then, maybe HP is a less viable option (disrupts appropriate responses). Maybe this could be remedied with slowing it down (separation of timescales), but how much is reasonable? And if not, this would be a major hit to the idea of HP because true CPG's do not exist. \n",
    "    \n",
    "- How do these things depend on the nature of HP?\n",
    "\n",
    "    - Differential application, sliding window, Hywell Williams vs. DiPaolo protocols, ...\n",
    "    \n",
    "    - Including a pacemaker element?\n",
    "    \n",
    "    - Dealing with time constants - should they reasonably be affected by temperature? should they reasonably be under the control of HP? What would it mean for animals if their HP had or didn't have control over them?\n",
    "    \n",
    "    - Demonstrated that HP needs capping so that weights don't go to zero with biases exploding - think about why that is\n",
    "\n",
    "- How do these things depend on the details of evolution?\n",
    "\n",
    "    - Evolving basal state first and then HP (or vice versa) vs. concurrently \n",
    "    \n",
    "    - Differently weighting the importance of performing under basal state vs. performing under perturbation\n",
    "    \n",
    "    - Crossover and mutation differences (keeping basal state and HP as separate units)\n",
    "    \n",
    "- How would an experimentalist observe this?\n",
    "\n",
    "    - Crabs pulled from the environment with variability along the degenerate fitness ridges? Response bias or evolution at work?\n",
    "        - Different arrangement when the perturbations have been larger/more disruptive? (i.e. climate change)\n",
    "        - Observe correlational structure even though none is \"built in\" to the HP mechanisms? Or even when no HP mechanism is present at all\n",
    "    \n",
    "    - "
   ]
  },
  {
   "cell_type": "code",
   "execution_count": 2,
   "id": "0022bab1",
   "metadata": {},
   "outputs": [],
   "source": [
    "#a pyloric-like neurongenome evolved from the other notebook\n",
    "#in case ever needed\n",
    "\n",
    "sol1 = np.array([ 14.82024187,  10.61253584,-12.15141158,  -4.61967513,-15.81543225,  15.62745189,  14.71262429,   2.0523492 , 1.86045721, -10.25813196,  -0.29218389,  -2.47607644, 1.13091869,   4.00518322,   3.57617411])"
   ]
  },
  {
   "cell_type": "code",
   "execution_count": 3,
   "id": "48a258d9",
   "metadata": {},
   "outputs": [
    {
     "name": "stdout",
     "output_type": "stream",
     "text": [
      "[-0.24274307  0.34562342 -0.40816932 -0.39281511  0.30441172  0.05436264\n",
      " -0.05058103 -0.36093516  0.11789112  0.2758798  -0.30641782  0.29725419]\n"
     ]
    }
   ],
   "source": [
    "##### Global perturbation (temperature) params #######\n",
    "n = 3\n",
    "freepars = (n**2) + n  #number of pars that will be perturbed by temperature (not time constants)\n",
    "globalpertdirection = np.random.uniform(-1,1,size=freepars) \n",
    "pertvector = (globalpertdirection/np.linalg.norm(globalpertdirection)) #normalized to have length 1\n",
    "globalpertmagnitude = 1 #length it will actually have in practice\n",
    "pts = 3 #number of locations to test along the pertvector\n",
    "\n",
    "print(pertvector)\n",
    "\n",
    "def fitnessfunc(genome):\n",
    "    '''genome has the form [weights,biases,timeconsts,lbs,ubs,taub,tauw,slidingwindow]. \n",
    "    pertvector and the number of sample points along it is defined outside the function\n",
    "    Apply perts of different magnitudes to the homeostatic CTRNN and average its pyloric fitness @ each point'''\n",
    "    neurongenome = genome[:-((2*n)+3)]\n",
    "    HPgenome = genome[-((2*n)+3):]\n",
    "    fitnesssum = 0\n",
    "    for i in np.linspace(0,globalpertmagnitude,pts): \n",
    "        neurongenome[:len(pertvector)] += (i*pertvector)\n",
    "        fitnesssum += pyloriclike(neurongenome,HPgenome,debugging = True)\n",
    "    return (fitnesssum/pts)"
   ]
  },
  {
   "cell_type": "code",
   "execution_count": 4,
   "id": "104abf6c",
   "metadata": {},
   "outputs": [
    {
     "name": "stdout",
     "output_type": "stream",
     "text": [
      "example genome [-1.73778055e+00 -1.10180725e+01 -7.96290769e+00 -1.42584240e+01\n",
      " -5.77364841e+00  3.14400917e+00  4.35290129e+00  8.94683184e+00\n",
      "  1.76295220e+00  3.68958268e+00  1.37906696e+01 -1.18951736e+01\n",
      "  5.57679786e+00  5.99587088e+00  9.04460841e+00  1.43200512e-01\n",
      "  2.81091665e-03  4.24693432e-01  5.18232602e-01  5.43353649e-01\n",
      "  9.30700655e-01  4.20251738e+01  2.02814381e+01  2.00000000e+00]\n"
     ]
    }
   ],
   "source": [
    "#####Microbial Genetic Algorithm Params ###############\n",
    "CTRNNsize = 3\n",
    "popsize = 15\n",
    "startpopulation = np.concatenate((randomCTRNNsample(CTRNNsize,popsize),randomHPsample(CTRNNsize,popsize)),axis=1)\n",
    "print('example genome', startpopulation[0])\n",
    "recombProb = .5 \n",
    "mutatProb = .25 #really, its the magnitude of mutation\n",
    "generations = 200\n",
    "differentialapp = [1,1,1] #HP can apply itself to any neuron\n",
    "\n",
    "M = Microbial(fitnessfunc, startpopulation, recombProb, mutatProb, generations, differentialapp)"
   ]
  },
  {
   "cell_type": "code",
   "execution_count": 5,
   "id": "76673b39",
   "metadata": {},
   "outputs": [
    {
     "name": "stdout",
     "output_type": "stream",
     "text": [
      "0\n",
      "0.7660449275465478\n"
     ]
    }
   ],
   "source": [
    "M.run()\n",
    "M.showFitness()\n",
    "\n",
    "#must increase transients for a longer HP process\n",
    "#doubleperiodicity much more common with HP, or at least the appearance of it from a 3D projection"
   ]
  },
  {
   "cell_type": "code",
   "execution_count": 8,
   "id": "88ab03c2",
   "metadata": {},
   "outputs": [
    {
     "name": "stdout",
     "output_type": "stream",
     "text": [
      "(0.1605865410764879, 0.7326001666055033, array([-1.66277628e+00,  6.08372573e+00,  2.02550211e-02,  9.42733663e-01,\n",
      "        8.46697321e+00,  4.99193437e+00, -5.60691553e+00, -6.66479592e+00,\n",
      "        5.06919151e+00,  3.36623523e+00, -3.18997036e+00, -4.84189892e+00,\n",
      "        7.37470557e+00,  9.79376709e+00,  2.56164698e+00,  3.58472612e-01,\n",
      "        2.09458835e-01,  3.42017940e-01,  3.68472612e-01,  2.19458835e-01,\n",
      "        8.28364889e-01,  3.99910632e+01,  1.90137781e+01,  4.00000000e+01]))\n"
     ]
    }
   ],
   "source": [
    "print(M.fitStats())"
   ]
  }
 ],
 "metadata": {
  "kernelspec": {
   "display_name": "Python 3.8.8 ('base')",
   "language": "python",
   "name": "python3"
  },
  "language_info": {
   "codemirror_mode": {
    "name": "ipython",
    "version": 3
   },
   "file_extension": ".py",
   "mimetype": "text/x-python",
   "name": "python",
   "nbconvert_exporter": "python",
   "pygments_lexer": "ipython3",
   "version": "3.8.8"
  },
  "vscode": {
   "interpreter": {
    "hash": "5648c8d6edd7080fc7edc4bc6bab23d6f8a7d007392a088bb230c24ee010ba10"
   }
  }
 },
 "nbformat": 4,
 "nbformat_minor": 5
}
